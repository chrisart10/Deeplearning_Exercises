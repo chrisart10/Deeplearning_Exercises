{
 "cells": [
  {
   "cell_type": "code",
   "execution_count": 23,
   "metadata": {},
   "outputs": [],
   "source": [
    "import numpy as np\n",
    "import matplotlib.pyplot as plt"
   ]
  },
  {
   "cell_type": "code",
   "execution_count": 24,
   "metadata": {},
   "outputs": [],
   "source": [
    "def layer_size(X,Y,h = 1):\n",
    "    n_x = X.shape[0]\n",
    "    n_h = h\n",
    "    n_y = Y.shape[0]\n",
    "    l_size = {\n",
    "        \"n_x\":n_x,\n",
    "        \"n_h\":n_h,\n",
    "        \"n_y\":n_y\n",
    "    }\n",
    "    return l_size"
   ]
  },
  {
   "cell_type": "code",
   "execution_count": 25,
   "metadata": {},
   "outputs": [],
   "source": [
    "def ini_parameters(n_x,n_h,n_y):\n",
    "    \n",
    "    np.random.seed(2)\n",
    "     \n",
    "    W1=np.random.randn(n_h,n_x)* (np.sqrt(1/ n_x))\n",
    "    b1=np.zeros((n_h,1))\n",
    "    \n",
    "    W2=np.random.randn( n_y,n_h)* (np.sqrt(1/n_h)) \n",
    "    b2=np.zeros((n_y,1))\n",
    "    \n",
    "    parameters = {\n",
    "        \"W1\": W1,\n",
    "        \"W2\": W2,\n",
    "        \"b1\": b1,\n",
    "        \"b2\": b2\n",
    "    }\n",
    "    return parameters"
   ]
  },
  {
   "cell_type": "code",
   "execution_count": 26,
   "metadata": {},
   "outputs": [
    {
     "name": "stdout",
     "output_type": "stream",
     "text": [
      "(1, 2)\n",
      "(1, 2)\n",
      "n_x=1\n",
      "n_y=1\n",
      "X=[[1 3]]\n",
      "Y=[[1 0]]\n",
      "W1=[[-0.41675785]]\n",
      "W2=[[-0.05626683]]\n",
      "b1=[[0.]]\n",
      "b2=[[0.]]\n"
     ]
    }
   ],
   "source": [
    "test_X = np.array([[1],[3]]).T\n",
    "test_Y = np.array([[1],[0]]).T\n",
    "n_h=1\n",
    "test_size = layer_size(test_X,test_Y,n_h)\n",
    "n_x = test_size[\"n_x\"]\n",
    "n_y = test_size[\"n_y\"]\n",
    "test_parameters= ini_parameters(n_x,n_h,n_y)\n",
    "print(test_X.shape)\n",
    "print(test_Y.shape)\n",
    "print(\"n_x=\" + str(n_x))\n",
    "print(\"n_y=\" + str(n_y))\n",
    "print(\"X=\" + str(test_X))\n",
    "print(\"Y=\" + str(test_Y))\n",
    "print(\"W1=\" + str(test_parameters[\"W1\"]))\n",
    "print(\"W2=\" + str(test_parameters[\"W2\"]))\n",
    "print(\"b1=\" + str(test_parameters[\"b1\"]))\n",
    "print(\"b2=\" + str(test_parameters[\"b2\"]))"
   ]
  },
  {
   "cell_type": "code",
   "execution_count": 27,
   "metadata": {},
   "outputs": [],
   "source": [
    "def sigmoid(Z):\n",
    "    return (1/(1+np.exp(-Z)))"
   ]
  },
  {
   "cell_type": "code",
   "execution_count": 28,
   "metadata": {},
   "outputs": [
    {
     "data": {
      "text/plain": [
       "array([0.99999774, 0.59868766])"
      ]
     },
     "execution_count": 28,
     "metadata": {},
     "output_type": "execute_result"
    }
   ],
   "source": [
    "z=np.array([13,0.4])\n",
    "test_sigmoid=sigmoid(z)\n",
    "test_sigmoid"
   ]
  },
  {
   "cell_type": "code",
   "execution_count": 29,
   "metadata": {},
   "outputs": [],
   "source": [
    "def cost_function(A,Y,lambd,parameters):\n",
    "    W1=parameters[\"W1\"]\n",
    "    W2=parameters[\"W2\"]\n",
    "    m=Y.shape[1]\n",
    "    L2_regularization_cost = (lambd/(2*m))*(np.sum(np.square(W1))+np.sum(np.square(W2)))\n",
    "    cost= (-1 / m) * ( np.sum( Y * np.log(A) + (1 - Y) * np.log(1 - A) ) ) + L2_regularization_cost\n",
    "    return cost"
   ]
  },
  {
   "cell_type": "code",
   "execution_count": 30,
   "metadata": {},
   "outputs": [
    {
     "data": {
      "text/plain": [
       "0.06720293796817685"
      ]
     },
     "execution_count": 30,
     "metadata": {},
     "output_type": "execute_result"
    }
   ],
   "source": [
    "test_A= np.array([[0.9],[0.02]]).T\n",
    "test_lambd = 0.1\n",
    "test_cost = cost_function(test_A,test_Y,test_lambd ,test_parameters)\n",
    "test_cost"
   ]
  },
  {
   "cell_type": "code",
   "execution_count": 31,
   "metadata": {},
   "outputs": [],
   "source": [
    "def forward_propagation(X,parameters):\n",
    "    \n",
    "    \"We initializing parameters\"\n",
    "    W1=parameters[\"W1\"]\n",
    "    b1=parameters[\"b1\"]\n",
    "    W2=parameters[\"W2\"]\n",
    "    b2=parameters[\"b2\"]\n",
    "    \n",
    "    Z1=np.dot(W1,X)+b1\n",
    "    A1= np.tanh(Z1)\n",
    "    Z2=np.dot(W2,A1)+b2\n",
    "    A2=sigmoid(Z2)\n",
    "    \n",
    "    cache = {\n",
    "        \"Z1\": Z1,\n",
    "        \"A1\": A1,\n",
    "        \"Z2\": Z2,\n",
    "        \"A2\": A2\n",
    "    }\n",
    "    return A2,cache"
   ]
  },
  {
   "cell_type": "code",
   "execution_count": 32,
   "metadata": {},
   "outputs": [
    {
     "name": "stdout",
     "output_type": "stream",
     "text": [
      "A2[[0.50554481 0.51193137]]\n",
      "[[1 0]]\n",
      "{'Z1': array([[-0.41675785, -1.25027354]]), 'A1': array([[-0.39419558, -0.84836033]]), 'Z2': array([[0.02218013, 0.04773454]]), 'A2': array([[0.50554481, 0.51193137]])}\n",
      "0.7041302542625567\n"
     ]
    }
   ],
   "source": [
    "test_A2,test_cache = forward_propagation(test_X,test_parameters)\n",
    "test_cost = cost_function(test_A2,test_Y,test_lambd,test_parameters)\n",
    "print(\"A2\" + str(test_A2))\n",
    "print(test_Y)\n",
    "print(test_cache)\n",
    "print(test_cost)"
   ]
  },
  {
   "cell_type": "code",
   "execution_count": 33,
   "metadata": {},
   "outputs": [],
   "source": [
    "def backpropagation(parameters, cache, X, Y, lambd):\n",
    "    \n",
    "    A2 = cache[\"A2\"]\n",
    "    A1 = cache[\"A1\"]\n",
    "    W1 = parameters[\"W1\"]\n",
    "    W2 = parameters[\"W2\"]\n",
    "    m = X.shape[1]\n",
    "    \n",
    "    dZ2 = A2 - Y\n",
    "    dW2 = (1/m) * np.dot(dZ2,A1.T) + (lambd/m) * W2\n",
    "    db2 = (1/m) * np.sum(dZ2,axis=1,keepdims=True)\n",
    "    dZ1 = np.dot(W2.T,dZ2)*(1-np.power(A1,2))\n",
    "    dW1 = (1/m) * np.dot(dZ1,X.T) + (lambd/m) * W1\n",
    "    db1 = (1/m) * np.sum(dZ1,axis=1,keepdims=True)\n",
    "    \n",
    "    grads={\n",
    "        \"dW1\":dW1,\n",
    "        \"db1\":db1,\n",
    "        \"dW2\":dW2,\n",
    "        \"db2\":db2\n",
    "    }\n",
    "    return grads"
   ]
  },
  {
   "cell_type": "code",
   "execution_count": 34,
   "metadata": {},
   "outputs": [
    {
     "data": {
      "text/plain": [
       "{'dW1': array([[-0.02119907]]),\n",
       " 'db1': array([[0.00771236]]),\n",
       " 'dW2': array([[-0.12250845]]),\n",
       " 'db2': array([[0.00873809]])}"
      ]
     },
     "execution_count": 34,
     "metadata": {},
     "output_type": "execute_result"
    }
   ],
   "source": [
    "test_grads= backpropagation(test_parameters,test_cache,test_X,test_Y,lambd=0.1)\n",
    "test_grads"
   ]
  },
  {
   "cell_type": "code",
   "execution_count": 35,
   "metadata": {},
   "outputs": [],
   "source": [
    "def gradient_descent(parameters,grads,learning_rate):\n",
    "    \n",
    "    \"Initializing grads\"\n",
    "    \n",
    "    dW1 = grads[\"dW1\"]\n",
    "    db1 = grads[\"db1\"]\n",
    "    dW2 = grads[\"dW2\"]\n",
    "    db2 = grads[\"db2\"]\n",
    "    \n",
    "    \"Initializing parameters\"\n",
    "    \n",
    "    W1 = parameters[\"W1\"]\n",
    "    b1 = parameters[\"b1\"]\n",
    "    W2 = parameters[\"W2\"]\n",
    "    b2 = parameters[\"b2\"]\n",
    "    \n",
    "                                            \n",
    "    W1 = W1 - learning_rate * dW1\n",
    "    W2 = W2 - learning_rate * dW2\n",
    "    b1 = b1 - learning_rate * db1\n",
    "    b2 = b2 - learning_rate * db2\n",
    "    \n",
    "    parameters = {\"W1\": W1,\n",
    "                  \"b1\": b1,\n",
    "                  \"W2\": W2,\n",
    "                  \"b2\": b2}\n",
    "    return parameters"
   ]
  },
  {
   "cell_type": "code",
   "execution_count": 36,
   "metadata": {},
   "outputs": [],
   "source": [
    "def model(X, Y, n_h, num_iterations = 1000, print_cost = False, learning_rate = 0.005 ,lambd=0):\n",
    "    l_size = layer_size(X,Y,n_h)\n",
    "    n_x = l_size[\"n_x\"]\n",
    "    n_y = l_size[\"n_y\"]\n",
    "    cost_acom=np.array([[]])\n",
    "    epoch = np.array([[]])\n",
    "    parameters = ini_parameters(n_x, n_h, n_y)\n",
    "    for i in range(0, num_iterations):\n",
    "         \n",
    "        ### START CODE HERE ### (≈ 4 lines of code)\n",
    "        # Forward propagation. Inputs: \"X, parameters\". Outputs: \"A2, cache\".\n",
    "        A, cache = forward_propagation(X, parameters)\n",
    "        \n",
    "        # Cost function. Inputs: \"A2, Y, parameters\". Outputs: \"cost\".\n",
    "        cost = float(np.squeeze(cost_function(A,Y,lambd,parameters))) # makes sure cost is the dimension we expect.\n",
    "\n",
    "        # Backpropagation. Inputs: \"parameters, cache, X, Y\". Outputs: \"grads\".\n",
    "        grads = backpropagation(parameters, cache, X, Y,lambd)\n",
    " \n",
    "        # Gradient descent parameter update. Inputs: \"parameters, grads\". Outputs: \"parameters\".\n",
    "        parameters = gradient_descent(parameters, grads,learning_rate)\n",
    "        \n",
    "        ### END CODE HERE ###\n",
    "        \n",
    "        # Print the cost every 1000 iterations\n",
    "        if print_cost and i % 1000 == 0:\n",
    "            print (\"Cost after iteration %i: %f\" %(i, cost))\n",
    "            cost_acom = np.append(cost_acom,[[cost]])\n",
    "            epoch = np.append(epoch,[[i]])\n",
    "#             print(\"parameters \" + str(parameters))\n",
    "#             print(\"predict \" + str(A))\n",
    "    \n",
    "    return parameters,epoch,cost_acom"
   ]
  },
  {
   "cell_type": "code",
   "execution_count": 37,
   "metadata": {},
   "outputs": [
    {
     "data": {
      "text/html": [
       "<div>\n",
       "<style scoped>\n",
       "    .dataframe tbody tr th:only-of-type {\n",
       "        vertical-align: middle;\n",
       "    }\n",
       "\n",
       "    .dataframe tbody tr th {\n",
       "        vertical-align: top;\n",
       "    }\n",
       "\n",
       "    .dataframe thead th {\n",
       "        text-align: right;\n",
       "    }\n",
       "</style>\n",
       "<table border=\"1\" class=\"dataframe\">\n",
       "  <thead>\n",
       "    <tr style=\"text-align: right;\">\n",
       "      <th></th>\n",
       "      <th>Gender</th>\n",
       "      <th>Height</th>\n",
       "      <th>Weight</th>\n",
       "    </tr>\n",
       "  </thead>\n",
       "  <tbody>\n",
       "    <tr>\n",
       "      <td>0</td>\n",
       "      <td>Female</td>\n",
       "      <td>154</td>\n",
       "      <td>132</td>\n",
       "    </tr>\n",
       "    <tr>\n",
       "      <td>1</td>\n",
       "      <td>Male</td>\n",
       "      <td>191</td>\n",
       "      <td>62</td>\n",
       "    </tr>\n",
       "    <tr>\n",
       "      <td>2</td>\n",
       "      <td>Female</td>\n",
       "      <td>167</td>\n",
       "      <td>135</td>\n",
       "    </tr>\n",
       "    <tr>\n",
       "      <td>3</td>\n",
       "      <td>Male</td>\n",
       "      <td>171</td>\n",
       "      <td>141</td>\n",
       "    </tr>\n",
       "    <tr>\n",
       "      <td>4</td>\n",
       "      <td>Female</td>\n",
       "      <td>179</td>\n",
       "      <td>103</td>\n",
       "    </tr>\n",
       "  </tbody>\n",
       "</table>\n",
       "</div>"
      ],
      "text/plain": [
       "   Gender  Height  Weight\n",
       "0  Female     154     132\n",
       "1    Male     191      62\n",
       "2  Female     167     135\n",
       "3    Male     171     141\n",
       "4  Female     179     103"
      ]
     },
     "execution_count": 37,
     "metadata": {},
     "output_type": "execute_result"
    }
   ],
   "source": [
    "import pandas as pd\n",
    "trainingset = pd.read_csv(r\"C:\\Users\\cristian\\Downloads\\trainingset.csv\")\n",
    "devset = pd.read_csv(r\"C:\\Users\\cristian\\Downloads\\devset.csv\")\n",
    "trainingset.head()"
   ]
  },
  {
   "cell_type": "code",
   "execution_count": 38,
   "metadata": {},
   "outputs": [
    {
     "data": {
      "text/html": [
       "<div>\n",
       "<style scoped>\n",
       "    .dataframe tbody tr th:only-of-type {\n",
       "        vertical-align: middle;\n",
       "    }\n",
       "\n",
       "    .dataframe tbody tr th {\n",
       "        vertical-align: top;\n",
       "    }\n",
       "\n",
       "    .dataframe thead th {\n",
       "        text-align: right;\n",
       "    }\n",
       "</style>\n",
       "<table border=\"1\" class=\"dataframe\">\n",
       "  <thead>\n",
       "    <tr style=\"text-align: right;\">\n",
       "      <th></th>\n",
       "      <th>count</th>\n",
       "      <th>unique</th>\n",
       "      <th>top</th>\n",
       "      <th>freq</th>\n",
       "    </tr>\n",
       "    <tr>\n",
       "      <th>Gender</th>\n",
       "      <th></th>\n",
       "      <th></th>\n",
       "      <th></th>\n",
       "      <th></th>\n",
       "    </tr>\n",
       "  </thead>\n",
       "  <tbody>\n",
       "    <tr>\n",
       "      <td>Female</td>\n",
       "      <td>196</td>\n",
       "      <td>1</td>\n",
       "      <td>Female</td>\n",
       "      <td>196</td>\n",
       "    </tr>\n",
       "    <tr>\n",
       "      <td>Male</td>\n",
       "      <td>196</td>\n",
       "      <td>1</td>\n",
       "      <td>Male</td>\n",
       "      <td>196</td>\n",
       "    </tr>\n",
       "  </tbody>\n",
       "</table>\n",
       "</div>"
      ],
      "text/plain": [
       "       count unique     top freq\n",
       "Gender                          \n",
       "Female   196      1  Female  196\n",
       "Male     196      1    Male  196"
      ]
     },
     "execution_count": 38,
     "metadata": {},
     "output_type": "execute_result"
    }
   ],
   "source": [
    "bygender = trainingset.groupby(\"Gender\")\n",
    "bygender[\"Gender\"].describe()"
   ]
  },
  {
   "cell_type": "code",
   "execution_count": 39,
   "metadata": {},
   "outputs": [
    {
     "data": {
      "text/html": [
       "<div>\n",
       "<style scoped>\n",
       "    .dataframe tbody tr th:only-of-type {\n",
       "        vertical-align: middle;\n",
       "    }\n",
       "\n",
       "    .dataframe tbody tr th {\n",
       "        vertical-align: top;\n",
       "    }\n",
       "\n",
       "    .dataframe thead th {\n",
       "        text-align: right;\n",
       "    }\n",
       "</style>\n",
       "<table border=\"1\" class=\"dataframe\">\n",
       "  <thead>\n",
       "    <tr style=\"text-align: right;\">\n",
       "      <th></th>\n",
       "      <th>count</th>\n",
       "      <th>unique</th>\n",
       "      <th>top</th>\n",
       "      <th>freq</th>\n",
       "    </tr>\n",
       "    <tr>\n",
       "      <th>Gender</th>\n",
       "      <th></th>\n",
       "      <th></th>\n",
       "      <th></th>\n",
       "      <th></th>\n",
       "    </tr>\n",
       "  </thead>\n",
       "  <tbody>\n",
       "    <tr>\n",
       "      <td>Female</td>\n",
       "      <td>49</td>\n",
       "      <td>1</td>\n",
       "      <td>Female</td>\n",
       "      <td>49</td>\n",
       "    </tr>\n",
       "    <tr>\n",
       "      <td>Male</td>\n",
       "      <td>49</td>\n",
       "      <td>1</td>\n",
       "      <td>Male</td>\n",
       "      <td>49</td>\n",
       "    </tr>\n",
       "  </tbody>\n",
       "</table>\n",
       "</div>"
      ],
      "text/plain": [
       "       count unique     top freq\n",
       "Gender                          \n",
       "Female    49      1  Female   49\n",
       "Male      49      1    Male   49"
      ]
     },
     "execution_count": 39,
     "metadata": {},
     "output_type": "execute_result"
    }
   ],
   "source": [
    "bygender2 = devset.groupby(\"Gender\")\n",
    "bygender2[\"Gender\"].describe()"
   ]
  },
  {
   "cell_type": "code",
   "execution_count": 40,
   "metadata": {},
   "outputs": [
    {
     "data": {
      "text/plain": [
       "(0      154\n",
       " 1      191\n",
       " 2      167\n",
       " 3      171\n",
       " 4      179\n",
       "       ... \n",
       " 387    184\n",
       " 388    150\n",
       " 389    164\n",
       " 390    148\n",
       " 391    191\n",
       " Name: Height, Length: 392, dtype: int64, 0      132\n",
       " 1       62\n",
       " 2      135\n",
       " 3      141\n",
       " 4      103\n",
       "       ... \n",
       " 387    152\n",
       " 388     74\n",
       " 389     71\n",
       " 390     67\n",
       " 391    146\n",
       " Name: Weight, Length: 392, dtype: int64)"
      ]
     },
     "execution_count": 40,
     "metadata": {},
     "output_type": "execute_result"
    }
   ],
   "source": [
    "(trainingset[\"Height\"],trainingset[\"Weight\"])"
   ]
  },
  {
   "cell_type": "code",
   "execution_count": 41,
   "metadata": {},
   "outputs": [
    {
     "data": {
      "text/plain": [
       "(0     198\n",
       " 1     172\n",
       " 2     187\n",
       " 3     169\n",
       " 4     179\n",
       "      ... \n",
       " 93    147\n",
       " 94    157\n",
       " 95    151\n",
       " 96    152\n",
       " 97    164\n",
       " Name: Height, Length: 98, dtype: int64, 0     109\n",
       " 1      90\n",
       " 2     130\n",
       " 3     110\n",
       " 4      56\n",
       "      ... \n",
       " 93    107\n",
       " 94    103\n",
       " 95     55\n",
       " 96     98\n",
       " 97     71\n",
       " Name: Weight, Length: 98, dtype: int64)"
      ]
     },
     "execution_count": 41,
     "metadata": {},
     "output_type": "execute_result"
    }
   ],
   "source": [
    "(devset[\"Height\"],devset[\"Weight\"])"
   ]
  },
  {
   "cell_type": "code",
   "execution_count": 42,
   "metadata": {},
   "outputs": [
    {
     "name": "stdout",
     "output_type": "stream",
     "text": [
      "before transpose\n",
      "X=[[154 132]]\n",
      "Y=[[0]]\n",
      "X_test=[[198 109]]\n",
      "Y_test=[[1]]\n",
      "training shape\n",
      "(392, 2)\n",
      "(392, 1)\n",
      "dev shape\n",
      "(49, 2)\n",
      "(49, 1)\n",
      "after transpose\n",
      "X=[[154 191 167 171 179 144 187 142 142 169 151 140 189 147 174 172 190 181\n",
      "  174 170 160 144 177 166 155 178 173 159 182 170 161 152 182 184 153 169\n",
      "  150 154 168 180 164 188 188 157 184 193 191 175 169 172 158 184 155 164\n",
      "  183 140 195 183 160 196 179 169 168 184 182 163 195 168 140 191 179 170\n",
      "  145 167 151 168 192 147 148 175 183 155 177 187 151 148 146 190 151 145\n",
      "  166 171 149 156 187 185 168 156 166 160 190 145 162 168 165 156 161 190\n",
      "  172 194 174 159 141 197 177 178 192 145 187 194 194 165 153 173 166 150\n",
      "  166 142 149 195 171 180 157 144 157 191 195 144 149 154 163 178 140 180\n",
      "  187 170 167 151 141 167 182 188 166 172 155 141 193 176 192 186 175 157\n",
      "  190 185 188 177 187 160 191 168 161 178 161 164 153 154 153 158 157 149\n",
      "  171 174 161 199 180 148 140 157 190 189 168 197 146 186 177 168 162 169\n",
      "  194 159 163 150 159 172 196 176 166 181 142 157 147 165 170 191 156 185\n",
      "  198 192 199 184 154 161 197 179 144 160 172 167 181 172 181 188 197 153\n",
      "  167 181 198 178 151 143 151 164 141 178 177 150 179 182 168 197 164 162\n",
      "  174 185 165 141 162 171 182 185 145 152 141 154 189 182 182 196 159 190\n",
      "  156 147 184 186 176 168 189 153 179 192 196 167 186 150 160 185 158 178\n",
      "  179 152 195 181 174 145 178 171 162 176 183 190 161 181 185 165 165 187\n",
      "  185 153 177 171 193 143 156 193 147 172 188 185 195 140 183 187 171 181\n",
      "  165 186 178 188 184 189 172 187 185 163 176 178 157 196 155 195 163 196\n",
      "  184 150 197 142 186 187 154 142 180 182 197 146 181 162 168 145 187 142\n",
      "  142 146 187 157 163 188 159 150 169 141 183 180 158 159 199 179 179 190\n",
      "  194 192 188 140 188 153 183 185 154 184 150 164 148 191]\n",
      " [132  62 135 141 103  66  94 159 131  97 114 129 104  92  90  75 105  51\n",
      "   65 156 139  80 117 144  71 154  82 104  98 115  72  90 126  83 107 103\n",
      "  119 105  59  73  82 100  57 110  86  65  54 120 145 105  96 132 111  70\n",
      "  138 146  69 105 131 131 110  88  87 160 104  63  98 140  76  62 114  81\n",
      "   79  85 158 148  90  84  60 135  96 144 117 140  82  54 157  50  62  99\n",
      "   61 152 108  89 102  52  90  74  70 124 156 108 159 115 105  52 155 135\n",
      "  109 111 138 109  85 149 117  52 139 130 136 115 108  80 146 139 126  50\n",
      "  107  69  61  65 155  58 110 108  56  68 104 145  66  92 123 140  52  60\n",
      "  122 102  85 154 143 153 143  90 140  62  57  94  61  87 140 137 141  60\n",
      "   83  76  54  61 138  51  79 123 145 117 118  75  78 111 121  95  74 100\n",
      "  147  95  89 156  75 155 143  66 118 132 135  88 110 127 155 160  58 141\n",
      "  106  80 110 144 154 111  50 156 160 105 135  52  67 104  95  96 126 100\n",
      "   50 108  92  57 145 134 125 158  88  83  92 151 106  96  78 123  72  51\n",
      "   58  94 145 160  64  88  67 126  80  83  81  60  83 149 139 119 160  97\n",
      "   90 139 155  86  68 120 151  60  78 103 126 100 124 108  84 116 124  50\n",
      "  106 126  76 143 109  50  87 149 130 101 159 110 148  70 156  94 153 142\n",
      "  152 141  81 141  96 160  85 147  58 122  50  80 103 111 140  68  83  89\n",
      "  110 104  96 131 151 118 137  54  94 139 122 102 147  79 150  92 118 139\n",
      "   57 118 127  81 106 125  67  70 119 159  54 138 153  69  51 126 131 122\n",
      "  153  87 154  86 140  62  54  71 149  84 114 138 111  74 143 117  96  91\n",
      "  137 104 121  56  57 114 120  84  54  80 147 156 149 104  99  67  93  95\n",
      "  136 101  80 152  99  70 153  81  96 152  74  71  67 146]]\n",
      "Y=[[0 1 0 1 0 0 0 0 1 0 1 1 1 1 1 1 0 1 0 0 1 1 1 0 0 0 0 1 1 1 1 0 0 1 0 0\n",
      "  0 1 0 1 0 1 1 1 0 1 0 0 0 1 1 0 0 0 1 0 1 1 0 0 1 0 0 0 1 0 1 0 0 1 0 1\n",
      "  0 0 0 1 0 1 1 1 0 0 0 1 1 0 0 1 1 1 1 0 0 0 0 0 0 1 1 0 0 1 0 0 1 0 1 1\n",
      "  0 0 1 1 1 1 1 1 0 1 1 1 1 1 0 1 0 0 1 1 1 0 0 0 0 1 1 0 0 1 1 0 1 1 1 0\n",
      "  1 0 0 1 0 0 0 0 0 0 1 1 0 1 0 0 0 0 1 1 1 1 1 0 1 1 0 1 1 1 0 1 1 1 1 1\n",
      "  1 1 1 1 1 1 1 0 0 0 0 1 0 0 0 1 1 1 1 0 1 0 1 0 0 0 1 1 1 0 0 1 1 1 0 0\n",
      "  1 0 0 1 1 0 1 0 1 0 1 1 0 0 1 1 0 0 0 0 0 1 0 1 0 0 1 1 0 0 1 0 0 1 0 1\n",
      "  1 1 1 1 0 0 1 1 1 1 0 1 0 1 0 1 1 0 0 0 0 0 1 1 1 0 1 0 0 0 0 0 1 0 0 1\n",
      "  1 1 1 1 1 1 1 1 0 0 0 1 1 1 0 1 0 0 0 1 0 0 1 0 1 1 0 1 0 0 0 1 0 0 0 1\n",
      "  0 1 1 1 0 0 0 0 0 0 0 1 0 1 1 1 1 0 1 0 0 0 0 1 1 1 1 0 0 1 0 0 0 1 1 1\n",
      "  0 0 0 0 0 1 1 0 0 1 1 0 0 0 1 0 1 1 0 1 0 1 1 1 1 0 0 0 1 0 0 1]]\n",
      "training shape\n",
      "(2, 392)\n",
      "(1, 392)\n",
      "dev shape\n",
      "(2, 49)\n",
      "(1, 49)\n"
     ]
    },
    {
     "name": "stderr",
     "output_type": "stream",
     "text": [
      "C:\\Users\\cristian\\Anaconda3\\lib\\site-packages\\ipykernel_launcher.py:5: SettingWithCopyWarning: \n",
      "A value is trying to be set on a copy of a slice from a DataFrame\n",
      "\n",
      "See the caveats in the documentation: http://pandas.pydata.org/pandas-docs/stable/user_guide/indexing.html#returning-a-view-versus-a-copy\n",
      "  \"\"\"\n",
      "C:\\Users\\cristian\\Anaconda3\\lib\\site-packages\\ipykernel_launcher.py:6: SettingWithCopyWarning: \n",
      "A value is trying to be set on a copy of a slice from a DataFrame\n",
      "\n",
      "See the caveats in the documentation: http://pandas.pydata.org/pandas-docs/stable/user_guide/indexing.html#returning-a-view-versus-a-copy\n",
      "  \n",
      "C:\\Users\\cristian\\Anaconda3\\lib\\site-packages\\ipykernel_launcher.py:7: SettingWithCopyWarning: \n",
      "A value is trying to be set on a copy of a slice from a DataFrame\n",
      "\n",
      "See the caveats in the documentation: http://pandas.pydata.org/pandas-docs/stable/user_guide/indexing.html#returning-a-view-versus-a-copy\n",
      "  import sys\n",
      "C:\\Users\\cristian\\Anaconda3\\lib\\site-packages\\ipykernel_launcher.py:8: SettingWithCopyWarning: \n",
      "A value is trying to be set on a copy of a slice from a DataFrame\n",
      "\n",
      "See the caveats in the documentation: http://pandas.pydata.org/pandas-docs/stable/user_guide/indexing.html#returning-a-view-versus-a-copy\n",
      "  \n"
     ]
    }
   ],
   "source": [
    "# CHANGES tag Male and Female to 1 & 0 \n",
    "\n",
    "gender = {'Male': 1,'Female': 2}\n",
    "\n",
    "trainingset.Gender[trainingset.Gender =='Male'] = 1\n",
    "trainingset.Gender[trainingset.Gender =='Female'] = 0\n",
    "devset.Gender[devset.Gender =='Male'] = 1\n",
    "devset.Gender[devset.Gender =='Female'] =0\n",
    "\n",
    "#Training set \n",
    "X = np.array([[trainingset[\"Height\"][0],trainingset[\"Weight\"][0]]])\n",
    "Y = np.array([[trainingset[\"Gender\"][0]]])\n",
    "\n",
    "#dev set\n",
    "X_test=np.array([[devset[\"Height\"][0],devset[\"Weight\"][0]]])\n",
    "Y_test = np.array([[devset[\"Gender\"][0]]])\n",
    "\n",
    "print(\"before transpose\")\n",
    "print(\"X=\" + str(X))\n",
    "print(\"Y=\" + str(Y))\n",
    "print(\"X_test=\" + str(X_test))\n",
    "print(\"Y_test=\" + str(Y_test))\n",
    "\n",
    "#training and dev size\n",
    "num1=392\n",
    "num2=49\n",
    "\n",
    "#adds values to X,Y,X_test & Y_TEST\n",
    "for i in range(1,num1):\n",
    "    X = np.append(X,[[trainingset[\"Height\"][i],trainingset[\"Weight\"][i]]],axis = 0)\n",
    "    Y = np.append(Y,[[trainingset[\"Gender\"][i]]],axis=0)\n",
    "for i in range(1,num2):\n",
    "    X_test= np.append(X_test,[[devset[\"Height\"][i],devset[\"Weight\"][i]]],axis = 0)\n",
    "    Y_test = np.append(Y_test,[[devset[\"Gender\"][i]]],axis=0)\n",
    "    \n",
    "# Shows shape of X,Y,X_test & Y_TEST\n",
    "print(\"training shape\")\n",
    "print(X.shape)\n",
    "print(Y.shape)\n",
    "print(\"dev shape\")\n",
    "print(X_test.shape)\n",
    "print(Y_test.shape)\n",
    "\n",
    "#transpose data\n",
    "X= X.T\n",
    "X_test=X_test.T\n",
    "Y=Y.T\n",
    "Y_test=Y_test.T\n",
    "#\n",
    "print(\"after transpose\")\n",
    "print(\"X=\" + str(X))\n",
    "print(\"Y=\" + str(Y))\n",
    "\n",
    "print(\"training shape\")\n",
    "print(X.shape)\n",
    "print(Y.shape)\n",
    "print(\"dev shape\")\n",
    "print(X_test.shape)\n",
    "print(Y_test.shape)\n",
    "\n",
    "# X=np.array([[1,2],[3,4]]).T\n",
    "# Y=np.array([[1],[0]]).T\n"
   ]
  },
  {
   "cell_type": "code",
   "execution_count": 43,
   "metadata": {
    "scrolled": true
   },
   "outputs": [
    {
     "name": "stdout",
     "output_type": "stream",
     "text": [
      "Cost after iteration 0: 0.721564\n",
      "Cost after iteration 1000: 0.693278\n",
      "Cost after iteration 2000: 0.692911\n",
      "Cost after iteration 3000: 0.694252\n",
      "Cost after iteration 4000: 0.694038\n",
      "Cost after iteration 5000: 0.693941\n",
      "Cost after iteration 6000: 0.693696\n",
      "Cost after iteration 7000: 0.693718\n",
      "Cost after iteration 8000: 0.693608\n",
      "Cost after iteration 9000: 0.693681\n",
      "Cost after iteration 10000: 0.693373\n",
      "Cost after iteration 11000: 0.692076\n",
      "Cost after iteration 12000: 0.693326\n",
      "Cost after iteration 13000: 0.691962\n"
     ]
    }
   ],
   "source": [
    "n_h=12\n",
    "parameters,epoch,cost_acom= model(X, Y, n_h, num_iterations = 14000, print_cost=True,learning_rate=0.3,lambd=0.1)"
   ]
  },
  {
   "cell_type": "code",
   "execution_count": 44,
   "metadata": {},
   "outputs": [
    {
     "data": {
      "text/plain": [
       "{'W1': array([[-0.10093353, -0.01362712],\n",
       "        [-0.51735994,  0.39725305],\n",
       "        [-0.43434764, -0.20386067],\n",
       "        [ 0.40559096, -1.1003908 ],\n",
       "        [-0.25622278, -0.22015026],\n",
       "        [ 0.13355526,  0.55514407],\n",
       "        [ 0.01006032, -0.27074754],\n",
       "        [ 0.25770664, -0.21664671],\n",
       "        [-0.00463317,  0.28457058],\n",
       "        [-0.18112498,  0.0021858 ],\n",
       "        [-0.21266673, -0.0378864 ],\n",
       "        [ 0.13307965, -0.53819213]]), 'b1': array([[-9.54431517e-15],\n",
       "        [ 2.10334526e-11],\n",
       "        [ 0.00000000e+00],\n",
       "        [-1.99178060e-02],\n",
       "        [ 0.00000000e+00],\n",
       "        [ 0.00000000e+00],\n",
       "        [ 4.44367316e-14],\n",
       "        [ 9.94996987e-04],\n",
       "        [ 9.87354946e-14],\n",
       "        [ 0.00000000e+00],\n",
       "        [ 0.00000000e+00],\n",
       "        [-1.04335651e-02]]), 'W2': array([[-0.03302099, -0.02287291, -0.0625674 , -0.10559342, -0.14004025,\n",
       "         -0.0156557 , -0.02612314,  0.24724665, -0.24121108,  0.01162479,\n",
       "          0.03710605,  0.29896008]]), 'b2': array([[-0.00794127]])}"
      ]
     },
     "execution_count": 44,
     "metadata": {},
     "output_type": "execute_result"
    }
   ],
   "source": [
    "parameters"
   ]
  },
  {
   "cell_type": "code",
   "execution_count": 45,
   "metadata": {},
   "outputs": [],
   "source": [
    "def predict(parameters, X):\n",
    "    \"\"\"\n",
    "    Using the learned parameters, predicts a class for each example in X\n",
    "    \n",
    "    Arguments:\n",
    "    parameters -- python dictionary containing your parameters \n",
    "    X -- input data of size (n_x, m)\n",
    "    \n",
    "    Returns\n",
    "    predictions -- vector of predictions of our model (red: 0 / blue: 1)\n",
    "    \"\"\"\n",
    "    \n",
    "    # Computes probabilities using forward propagation, and classifies to 0/1 using 0.5 as the threshold.\n",
    "    ### START CODE HERE ### (≈ 2 lines of code)\n",
    "    A2, cache = forward_propagation(X, parameters)\n",
    "    predictions = cache[\"A2\"]\n",
    "    ### END CODE HERE ###\n",
    "    \n",
    "    return predictions"
   ]
  },
  {
   "cell_type": "code",
   "execution_count": 46,
   "metadata": {},
   "outputs": [
    {
     "name": "stdout",
     "output_type": "stream",
     "text": [
      "predictions mean = 0.49895579106250426\n"
     ]
    }
   ],
   "source": [
    "predictions = predict(parameters, X_test)\n",
    "print(\"predictions mean = \" + str(np.mean(predictions)))"
   ]
  },
  {
   "cell_type": "code",
   "execution_count": 47,
   "metadata": {},
   "outputs": [
    {
     "data": {
      "text/plain": [
       "array([0.72156417, 0.69327833, 0.6929109 , 0.69425204, 0.69403764,\n",
       "       0.69394094, 0.69369611, 0.69371844, 0.69360789, 0.69368064,\n",
       "       0.69337257, 0.6920756 , 0.69332568, 0.69196235])"
      ]
     },
     "execution_count": 47,
     "metadata": {},
     "output_type": "execute_result"
    }
   ],
   "source": [
    "cost_acom"
   ]
  },
  {
   "cell_type": "code",
   "execution_count": 48,
   "metadata": {},
   "outputs": [
    {
     "data": {
      "image/png": "[encoded data removed]",
      "text/plain": [
       "<Figure size 432x288 with 1 Axes>"
      ]
     },
     "metadata": {
      "needs_background": "light"
     },
     "output_type": "display_data"
    }
   ],
   "source": [
    "plt.plot(epoch,cost_acom)\n",
    "plt.ylabel('Cost')\n",
    "plt.show()"
   ]
  },
  {
   "cell_type": "code",
   "execution_count": 49,
   "metadata": {},
   "outputs": [
    {
     "data": {
      "text/plain": [
       "array([[0.50624112, 0.50624112, 0.50624112, 0.50624112, 0.45357928,\n",
       "        0.50624112, 0.50624112, 0.50623709, 0.50624112, 0.50624112,\n",
       "        0.50624112, 0.50624112, 0.45357884, 0.50624112, 0.50624112,\n",
       "        0.50624112, 0.50624112, 0.46481251, 0.50624112, 0.50624112,\n",
       "        0.50624112, 0.50624109, 0.50624112, 0.50624112, 0.50624112,\n",
       "        0.50624112, 0.45424581, 0.45358363, 0.50624101, 0.50600902,\n",
       "        0.50624112, 0.50624112, 0.50624112, 0.50624112, 0.50624112,\n",
       "        0.50622481, 0.50624112, 0.50624112, 0.45357988, 0.50624112,\n",
       "        0.50624112, 0.5062411 , 0.50624112, 0.50624112, 0.45357928,\n",
       "        0.50624111, 0.50624112, 0.50624112, 0.50624112]])"
      ]
     },
     "execution_count": 49,
     "metadata": {},
     "output_type": "execute_result"
    }
   ],
   "source": [
    "predictions"
   ]
  },
  {
   "cell_type": "code",
   "execution_count": 50,
   "metadata": {
    "scrolled": true
   },
   "outputs": [
    {
     "data": {
      "text/plain": [
       "0.7006067394397099"
      ]
     },
     "execution_count": 50,
     "metadata": {},
     "output_type": "execute_result"
    }
   ],
   "source": [
    "cost_function(predictions,Y_test,0.1,parameters)"
   ]
  },
  {
   "cell_type": "code",
   "execution_count": 51,
   "metadata": {},
   "outputs": [],
   "source": [
    "# # Print accuracy\n",
    "# print ('Accuracy: %d' % float((np.dot(Y,predictions.T) + np.dot(1-Y,1-predictions.T))/float(Y.size)*100) + '%')"
   ]
  },
  {
   "cell_type": "code",
   "execution_count": 52,
   "metadata": {},
   "outputs": [
    {
     "data": {
      "text/plain": [
       "array([1, 1, 1, 1, 0, 1, 1, 1, 1, 1, 1, 1, 0, 1, 1, 1, 1, 0, 1, 1, 1, 1,\n",
       "       1, 1, 1, 1, 0, 0, 1, 1, 1, 1, 1, 1, 1, 1, 1, 1, 0, 1, 1, 1, 1, 1,\n",
       "       0, 1, 1, 1, 1], dtype=uint8)"
      ]
     },
     "execution_count": 52,
     "metadata": {},
     "output_type": "execute_result"
    }
   ],
   "source": [
    "(predictions[0]>=0.5).astype('uint8')"
   ]
  },
  {
   "cell_type": "code",
   "execution_count": 53,
   "metadata": {},
   "outputs": [
    {
     "data": {
      "text/plain": [
       "array([1, 0, 0, 1, 1, 1, 1, 0, 0, 0, 0, 0, 0, 0, 0, 0, 1, 0, 0, 0, 0, 1,\n",
       "       1, 0, 1, 0, 1, 0, 1, 1, 0, 1, 0, 0, 0, 0, 1, 1, 1, 1, 1, 1, 0, 0,\n",
       "       1, 0, 1, 1, 1], dtype=uint8)"
      ]
     },
     "execution_count": 53,
     "metadata": {},
     "output_type": "execute_result"
    }
   ],
   "source": [
    "(Y_test[0]==1).astype('uint8')"
   ]
  },
  {
   "cell_type": "code",
   "execution_count": 54,
   "metadata": {},
   "outputs": [
    {
     "data": {
      "text/plain": [
       "0.4489795918367347"
      ]
     },
     "execution_count": 54,
     "metadata": {},
     "output_type": "execute_result"
    }
   ],
   "source": [
    "from sklearn.metrics import accuracy_score\n",
    "accuracy_score((Y_test[0] == 1).astype('uint8'), (predictions[0]>=0.5).astype('uint8'))"
   ]
  },
  {
   "cell_type": "code",
   "execution_count": 55,
   "metadata": {},
   "outputs": [
    {
     "data": {
      "text/plain": [
       "(3, 23, 4, 19)"
      ]
     },
     "execution_count": 55,
     "metadata": {},
     "output_type": "execute_result"
    }
   ],
   "source": [
    "from sklearn.metrics import confusion_matrix\n",
    "tn, fp, fn, tp = confusion_matrix((Y_test[0] == 1).astype('uint8'), (predictions[0]>=0.5).astype('uint8')).ravel()\n",
    "(tn, fp, fn, tp)"
   ]
  },
  {
   "cell_type": "code",
   "execution_count": 56,
   "metadata": {},
   "outputs": [
    {
     "data": {
      "text/plain": [
       "'              precision    recall  f1-score   support\\n\\n           0       0.43      0.12      0.18        26\\n           1       0.45      0.83      0.58        23\\n\\n    accuracy                           0.45        49\\n   macro avg       0.44      0.47      0.38        49\\nweighted avg       0.44      0.45      0.37        49\\n'"
      ]
     },
     "execution_count": 56,
     "metadata": {},
     "output_type": "execute_result"
    }
   ],
   "source": [
    "from sklearn.metrics import classification_report\n",
    "classification_report((Y_test[0] == 1).astype('uint8'), (predictions[0]>=0.5).astype('uint8'))"
   ]
  }
 ],
 "metadata": {
  "kernelspec": {
   "display_name": "Python 3",
   "language": "python",
   "name": "python3"
  },
  "language_info": {
   "codemirror_mode": {
    "name": "ipython",
    "version": 3
   },
   "file_extension": ".py",
   "mimetype": "text/x-python",
   "name": "python",
   "nbconvert_exporter": "python",
   "pygments_lexer": "ipython3",
   "version": "3.7.4"
  }
 },
 "nbformat": 4,
 "nbformat_minor": 2
}
