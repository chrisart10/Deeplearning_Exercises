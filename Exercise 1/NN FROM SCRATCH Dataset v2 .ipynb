{
 "cells": [
  {
   "cell_type": "code",
   "execution_count": 323,
   "metadata": {},
   "outputs": [],
   "source": [
    "import numpy as np\n",
    "import matplotlib.pyplot as plt"
   ]
  },
  {
   "cell_type": "markdown",
   "metadata": {},
   "source": [
    "# Model"
   ]
  },
  {
   "cell_type": "code",
   "execution_count": 324,
   "metadata": {},
   "outputs": [],
   "source": [
    "def layer_size(X,Y,h = 1):\n",
    "    n_x = X.shape[0]\n",
    "    n_h = h\n",
    "    n_y = Y.shape[0]\n",
    "    l_size = {\n",
    "        \"n_x\":n_x,\n",
    "        \"n_h\":n_h,\n",
    "        \"n_y\":n_y\n",
    "    }\n",
    "    return l_size"
   ]
  },
  {
   "cell_type": "code",
   "execution_count": 325,
   "metadata": {},
   "outputs": [],
   "source": [
    "def ini_parameters(n_x,n_h,n_y):\n",
    "    \n",
    "    np.random.seed(2)\n",
    "     \n",
    "    W1=np.random.randn(n_h,n_x)* (np.sqrt(1/ n_x))\n",
    "    b1=np.zeros((n_h,1))\n",
    "    \n",
    "    W2=np.random.randn( n_y,n_h)* (np.sqrt(1/n_h)) \n",
    "    b2=np.zeros((n_y,1))\n",
    "    \n",
    "    parameters = {\n",
    "        \"W1\": W1,\n",
    "        \"W2\": W2,\n",
    "        \"b1\": b1,\n",
    "        \"b2\": b2\n",
    "    }\n",
    "    return parameters"
   ]
  },
  {
   "cell_type": "code",
   "execution_count": 326,
   "metadata": {},
   "outputs": [
    {
     "name": "stdout",
     "output_type": "stream",
     "text": [
      "(1, 2)\n",
      "(1, 2)\n",
      "n_x=1\n",
      "n_y=1\n",
      "X=[[1 3]]\n",
      "Y=[[1 0]]\n",
      "W1=[[-0.41675785]]\n",
      "W2=[[-0.05626683]]\n",
      "b1=[[0.]]\n",
      "b2=[[0.]]\n"
     ]
    }
   ],
   "source": [
    "test_X = np.array([[1],[3]]).T\n",
    "test_Y = np.array([[1],[0]]).T\n",
    "n_h=1\n",
    "test_size = layer_size(test_X,test_Y,n_h)\n",
    "n_x = test_size[\"n_x\"]\n",
    "n_y = test_size[\"n_y\"]\n",
    "test_parameters= ini_parameters(n_x,n_h,n_y)\n",
    "print(test_X.shape)\n",
    "print(test_Y.shape)\n",
    "print(\"n_x=\" + str(n_x))\n",
    "print(\"n_y=\" + str(n_y))\n",
    "print(\"X=\" + str(test_X))\n",
    "print(\"Y=\" + str(test_Y))\n",
    "print(\"W1=\" + str(test_parameters[\"W1\"]))\n",
    "print(\"W2=\" + str(test_parameters[\"W2\"]))\n",
    "print(\"b1=\" + str(test_parameters[\"b1\"]))\n",
    "print(\"b2=\" + str(test_parameters[\"b2\"]))"
   ]
  },
  {
   "cell_type": "code",
   "execution_count": 327,
   "metadata": {},
   "outputs": [],
   "source": [
    "def sigmoid(Z):\n",
    "    return (1/(1+np.exp(-Z)))"
   ]
  },
  {
   "cell_type": "code",
   "execution_count": 328,
   "metadata": {},
   "outputs": [
    {
     "data": {
      "text/plain": [
       "array([0.99999774, 0.59868766])"
      ]
     },
     "execution_count": 328,
     "metadata": {},
     "output_type": "execute_result"
    }
   ],
   "source": [
    "z=np.array([13,0.4])\n",
    "test_sigmoid=sigmoid(z)\n",
    "test_sigmoid"
   ]
  },
  {
   "cell_type": "code",
   "execution_count": 329,
   "metadata": {},
   "outputs": [],
   "source": [
    "def cost_function(A,Y,lambd,parameters):\n",
    "    W1=parameters[\"W1\"]\n",
    "    W2=parameters[\"W2\"]\n",
    "    m=Y.shape[1]\n",
    "    #L2_regularization_cost = (lambd/(2*m))*(np.sum(np.square(W1))+np.sum(np.square(W2)))\n",
    "    cost= (-1 / m) * ( np.sum( Y * np.log(A) + (1 - Y) * np.log(1 - A) ) ) #+ L2_regularization_cost\n",
    "    return cost"
   ]
  },
  {
   "cell_type": "code",
   "execution_count": 330,
   "metadata": {},
   "outputs": [
    {
     "data": {
      "text/plain": [
       "0.06278161148767288"
      ]
     },
     "execution_count": 330,
     "metadata": {},
     "output_type": "execute_result"
    }
   ],
   "source": [
    "test_A= np.array([[0.9],[0.02]]).T\n",
    "test_lambd = 0.1\n",
    "test_cost = cost_function(test_A,test_Y,test_lambd ,test_parameters)\n",
    "test_cost"
   ]
  },
  {
   "cell_type": "code",
   "execution_count": 331,
   "metadata": {},
   "outputs": [],
   "source": [
    "def forward_propagation(X,parameters):\n",
    "    \n",
    "    \"We initializing parameters\"\n",
    "    W1=parameters[\"W1\"]\n",
    "    b1=parameters[\"b1\"]\n",
    "    W2=parameters[\"W2\"]\n",
    "    b2=parameters[\"b2\"]\n",
    "    \n",
    "    Z1=np.dot(W1,X)+b1\n",
    "    A1= np.tanh(Z1)\n",
    "    Z2=np.dot(W2,A1)+b2\n",
    "    A2=sigmoid(Z2)\n",
    "    \n",
    "    cache = {\n",
    "        \"Z1\": Z1,\n",
    "        \"A1\": A1,\n",
    "        \"Z2\": Z2,\n",
    "        \"A2\": A2\n",
    "    }\n",
    "    return A2,cache"
   ]
  },
  {
   "cell_type": "code",
   "execution_count": 332,
   "metadata": {},
   "outputs": [
    {
     "name": "stdout",
     "output_type": "stream",
     "text": [
      "A2[[0.50554481 0.51193137]]\n",
      "[[1 0]]\n",
      "{'Z1': array([[-0.41675785, -1.25027354]]), 'A1': array([[-0.39419558, -0.84836033]]), 'Z2': array([[0.02218013, 0.04773454]]), 'A2': array([[0.50554481, 0.51193137]])}\n",
      "0.6997089277820527\n"
     ]
    }
   ],
   "source": [
    "test_A2,test_cache = forward_propagation(test_X,test_parameters)\n",
    "test_cost = cost_function(test_A2,test_Y,test_lambd,test_parameters)\n",
    "print(\"A2\" + str(test_A2))\n",
    "print(test_Y)\n",
    "print(test_cache)\n",
    "print(test_cost)"
   ]
  },
  {
   "cell_type": "code",
   "execution_count": 333,
   "metadata": {},
   "outputs": [],
   "source": [
    "def backpropagation(parameters, cache, X, Y, lambd):\n",
    "    \n",
    "    A2 = cache[\"A2\"]\n",
    "    A1 = cache[\"A1\"]\n",
    "    W1 = parameters[\"W1\"]\n",
    "    W2 = parameters[\"W2\"]\n",
    "    m = X.shape[1]\n",
    "    \n",
    "    dZ2 = A2 - Y\n",
    "    dW2 = (1/m) * np.dot(dZ2,A1.T) #+ (lambd/m) * W2\n",
    "    db2 = (1/m) * np.sum(dZ2,axis=1,keepdims=True)\n",
    "    dZ1 = np.dot(W2.T,dZ2)*(1-np.power(A1,2))\n",
    "    dW1 = (1/m) * np.dot(dZ1,X.T) #+ (lambd/m) * W1\n",
    "    db1 = (1/m) * np.sum(dZ1,axis=1,keepdims=True)\n",
    "    \n",
    "    grads={\n",
    "        \"dW1\":dW1,\n",
    "        \"db1\":db1,\n",
    "        \"dW2\":dW2,\n",
    "        \"db2\":db2\n",
    "    }\n",
    "    return grads"
   ]
  },
  {
   "cell_type": "code",
   "execution_count": 334,
   "metadata": {},
   "outputs": [
    {
     "data": {
      "text/plain": [
       "{'dW1': array([[-0.00036118]]),\n",
       " 'db1': array([[0.00771236]]),\n",
       " 'dW2': array([[-0.11969511]]),\n",
       " 'db2': array([[0.00873809]])}"
      ]
     },
     "execution_count": 334,
     "metadata": {},
     "output_type": "execute_result"
    }
   ],
   "source": [
    "test_grads= backpropagation(test_parameters,test_cache,test_X,test_Y,lambd=0.1)\n",
    "test_grads"
   ]
  },
  {
   "cell_type": "code",
   "execution_count": 335,
   "metadata": {},
   "outputs": [],
   "source": [
    "def gradient_descent(parameters,grads,learning_rate):\n",
    "    \n",
    "    \"Initializing grads\"\n",
    "    \n",
    "    dW1 = grads[\"dW1\"]\n",
    "    db1 = grads[\"db1\"]\n",
    "    dW2 = grads[\"dW2\"]\n",
    "    db2 = grads[\"db2\"]\n",
    "    \n",
    "    \"Initializing parameters\"\n",
    "    \n",
    "    W1 = parameters[\"W1\"]\n",
    "    b1 = parameters[\"b1\"]\n",
    "    W2 = parameters[\"W2\"]\n",
    "    b2 = parameters[\"b2\"]\n",
    "    \n",
    "                                            \n",
    "    W1 = W1 - learning_rate * dW1\n",
    "    W2 = W2 - learning_rate * dW2\n",
    "    b1 = b1 - learning_rate * db1\n",
    "    b2 = b2 - learning_rate * db2\n",
    "    \n",
    "    parameters = {\"W1\": W1,\n",
    "                  \"b1\": b1,\n",
    "                  \"W2\": W2,\n",
    "                  \"b2\": b2}\n",
    "    return parameters"
   ]
  },
  {
   "cell_type": "code",
   "execution_count": 336,
   "metadata": {},
   "outputs": [],
   "source": [
    "def model(X, Y, n_h, num_iterations = 1000, print_cost = False, learning_rate = 0.005 ,lambd=0):\n",
    "    l_size = layer_size(X,Y,n_h)\n",
    "    n_x = l_size[\"n_x\"]\n",
    "    n_y = l_size[\"n_y\"]\n",
    "    cost_acom=np.array([[]])\n",
    "    epoch = np.array([[]])\n",
    "    parameters = ini_parameters(n_x, n_h, n_y)\n",
    "    for i in range(0, num_iterations):\n",
    "         \n",
    "        ### START CODE HERE ### (≈ 4 lines of code)\n",
    "        # Forward propagation. Inputs: \"X, parameters\". Outputs: \"A2, cache\".\n",
    "        A, cache = forward_propagation(X, parameters)\n",
    "        \n",
    "        # Cost function. Inputs: \"A2, Y, parameters\". Outputs: \"cost\".\n",
    "        cost = float(np.squeeze(cost_function(A,Y,lambd,parameters))) # makes sure cost is the dimension we expect.\n",
    "\n",
    "        # Backpropagation. Inputs: \"parameters, cache, X, Y\". Outputs: \"grads\".\n",
    "        grads = backpropagation(parameters, cache, X, Y,lambd)\n",
    " \n",
    "        # Gradient descent parameter update. Inputs: \"parameters, grads\". Outputs: \"parameters\".\n",
    "        parameters = gradient_descent(parameters, grads,learning_rate)\n",
    "        \n",
    "        ### END CODE HERE ###\n",
    "        \n",
    "        # Print the cost every 1000 iterations\n",
    "        if print_cost and i % 10 == 0:\n",
    "            print (\"Cost after iteration %i: %f\" %(i, cost))\n",
    "            cost_acom = np.append(cost_acom,[[cost]])\n",
    "            epoch = np.append(epoch,[[i]])\n",
    "#             print(\"parameters \" + str(parameters))\n",
    "#             print(\"predict \" + str(A))\n",
    "    \n",
    "    return parameters,epoch,cost_acom"
   ]
  },
  {
   "cell_type": "markdown",
   "metadata": {},
   "source": [
    "# Import Data"
   ]
  },
  {
   "cell_type": "code",
   "execution_count": 337,
   "metadata": {},
   "outputs": [
    {
     "data": {
      "text/html": [
       "<div>\n",
       "<style scoped>\n",
       "    .dataframe tbody tr th:only-of-type {\n",
       "        vertical-align: middle;\n",
       "    }\n",
       "\n",
       "    .dataframe tbody tr th {\n",
       "        vertical-align: top;\n",
       "    }\n",
       "\n",
       "    .dataframe thead th {\n",
       "        text-align: right;\n",
       "    }\n",
       "</style>\n",
       "<table border=\"1\" class=\"dataframe\">\n",
       "  <thead>\n",
       "    <tr style=\"text-align: right;\">\n",
       "      <th></th>\n",
       "      <th>Gender</th>\n",
       "      <th>Height</th>\n",
       "      <th>Weight</th>\n",
       "    </tr>\n",
       "  </thead>\n",
       "  <tbody>\n",
       "    <tr>\n",
       "      <td>0</td>\n",
       "      <td>Female</td>\n",
       "      <td>154</td>\n",
       "      <td>132</td>\n",
       "    </tr>\n",
       "    <tr>\n",
       "      <td>1</td>\n",
       "      <td>Male</td>\n",
       "      <td>191</td>\n",
       "      <td>62</td>\n",
       "    </tr>\n",
       "    <tr>\n",
       "      <td>2</td>\n",
       "      <td>Female</td>\n",
       "      <td>167</td>\n",
       "      <td>135</td>\n",
       "    </tr>\n",
       "    <tr>\n",
       "      <td>3</td>\n",
       "      <td>Male</td>\n",
       "      <td>171</td>\n",
       "      <td>141</td>\n",
       "    </tr>\n",
       "    <tr>\n",
       "      <td>4</td>\n",
       "      <td>Female</td>\n",
       "      <td>179</td>\n",
       "      <td>103</td>\n",
       "    </tr>\n",
       "  </tbody>\n",
       "</table>\n",
       "</div>"
      ],
      "text/plain": [
       "   Gender  Height  Weight\n",
       "0  Female     154     132\n",
       "1    Male     191      62\n",
       "2  Female     167     135\n",
       "3    Male     171     141\n",
       "4  Female     179     103"
      ]
     },
     "execution_count": 337,
     "metadata": {},
     "output_type": "execute_result"
    }
   ],
   "source": [
    "import pandas as pd\n",
    "trainingset = pd.read_csv(r\"C:\\Users\\cristian\\Downloads\\trainingset.csv\")\n",
    "devset = pd.read_csv(r\"C:\\Users\\cristian\\Downloads\\devset.csv\")\n",
    "trainingset.head()"
   ]
  },
  {
   "cell_type": "code",
   "execution_count": 338,
   "metadata": {},
   "outputs": [
    {
     "data": {
      "text/html": [
       "<div>\n",
       "<style scoped>\n",
       "    .dataframe tbody tr th:only-of-type {\n",
       "        vertical-align: middle;\n",
       "    }\n",
       "\n",
       "    .dataframe tbody tr th {\n",
       "        vertical-align: top;\n",
       "    }\n",
       "\n",
       "    .dataframe thead th {\n",
       "        text-align: right;\n",
       "    }\n",
       "</style>\n",
       "<table border=\"1\" class=\"dataframe\">\n",
       "  <thead>\n",
       "    <tr style=\"text-align: right;\">\n",
       "      <th></th>\n",
       "      <th>Gender</th>\n",
       "      <th>Height</th>\n",
       "      <th>Weight</th>\n",
       "    </tr>\n",
       "  </thead>\n",
       "  <tbody>\n",
       "    <tr>\n",
       "      <td>0</td>\n",
       "      <td>Male</td>\n",
       "      <td>198</td>\n",
       "      <td>109</td>\n",
       "    </tr>\n",
       "    <tr>\n",
       "      <td>1</td>\n",
       "      <td>Female</td>\n",
       "      <td>172</td>\n",
       "      <td>90</td>\n",
       "    </tr>\n",
       "    <tr>\n",
       "      <td>2</td>\n",
       "      <td>Female</td>\n",
       "      <td>187</td>\n",
       "      <td>130</td>\n",
       "    </tr>\n",
       "    <tr>\n",
       "      <td>3</td>\n",
       "      <td>Male</td>\n",
       "      <td>169</td>\n",
       "      <td>110</td>\n",
       "    </tr>\n",
       "    <tr>\n",
       "      <td>4</td>\n",
       "      <td>Male</td>\n",
       "      <td>179</td>\n",
       "      <td>56</td>\n",
       "    </tr>\n",
       "  </tbody>\n",
       "</table>\n",
       "</div>"
      ],
      "text/plain": [
       "   Gender  Height  Weight\n",
       "0    Male     198     109\n",
       "1  Female     172      90\n",
       "2  Female     187     130\n",
       "3    Male     169     110\n",
       "4    Male     179      56"
      ]
     },
     "execution_count": 338,
     "metadata": {},
     "output_type": "execute_result"
    }
   ],
   "source": [
    "devset.head()"
   ]
  },
  {
   "cell_type": "code",
   "execution_count": 339,
   "metadata": {},
   "outputs": [
    {
     "data": {
      "text/html": [
       "<div>\n",
       "<style scoped>\n",
       "    .dataframe tbody tr th:only-of-type {\n",
       "        vertical-align: middle;\n",
       "    }\n",
       "\n",
       "    .dataframe tbody tr th {\n",
       "        vertical-align: top;\n",
       "    }\n",
       "\n",
       "    .dataframe thead th {\n",
       "        text-align: right;\n",
       "    }\n",
       "</style>\n",
       "<table border=\"1\" class=\"dataframe\">\n",
       "  <thead>\n",
       "    <tr style=\"text-align: right;\">\n",
       "      <th></th>\n",
       "      <th>count</th>\n",
       "      <th>unique</th>\n",
       "      <th>top</th>\n",
       "      <th>freq</th>\n",
       "    </tr>\n",
       "    <tr>\n",
       "      <th>Gender</th>\n",
       "      <th></th>\n",
       "      <th></th>\n",
       "      <th></th>\n",
       "      <th></th>\n",
       "    </tr>\n",
       "  </thead>\n",
       "  <tbody>\n",
       "    <tr>\n",
       "      <td>Female</td>\n",
       "      <td>196</td>\n",
       "      <td>1</td>\n",
       "      <td>Female</td>\n",
       "      <td>196</td>\n",
       "    </tr>\n",
       "    <tr>\n",
       "      <td>Male</td>\n",
       "      <td>196</td>\n",
       "      <td>1</td>\n",
       "      <td>Male</td>\n",
       "      <td>196</td>\n",
       "    </tr>\n",
       "  </tbody>\n",
       "</table>\n",
       "</div>"
      ],
      "text/plain": [
       "       count unique     top freq\n",
       "Gender                          \n",
       "Female   196      1  Female  196\n",
       "Male     196      1    Male  196"
      ]
     },
     "execution_count": 339,
     "metadata": {},
     "output_type": "execute_result"
    }
   ],
   "source": [
    "bygender = trainingset.groupby(\"Gender\")\n",
    "bygender[\"Gender\"].describe()"
   ]
  },
  {
   "cell_type": "code",
   "execution_count": 340,
   "metadata": {},
   "outputs": [
    {
     "data": {
      "text/html": [
       "<div>\n",
       "<style scoped>\n",
       "    .dataframe tbody tr th:only-of-type {\n",
       "        vertical-align: middle;\n",
       "    }\n",
       "\n",
       "    .dataframe tbody tr th {\n",
       "        vertical-align: top;\n",
       "    }\n",
       "\n",
       "    .dataframe thead th {\n",
       "        text-align: right;\n",
       "    }\n",
       "</style>\n",
       "<table border=\"1\" class=\"dataframe\">\n",
       "  <thead>\n",
       "    <tr style=\"text-align: right;\">\n",
       "      <th></th>\n",
       "      <th>count</th>\n",
       "      <th>unique</th>\n",
       "      <th>top</th>\n",
       "      <th>freq</th>\n",
       "    </tr>\n",
       "    <tr>\n",
       "      <th>Gender</th>\n",
       "      <th></th>\n",
       "      <th></th>\n",
       "      <th></th>\n",
       "      <th></th>\n",
       "    </tr>\n",
       "  </thead>\n",
       "  <tbody>\n",
       "    <tr>\n",
       "      <td>Female</td>\n",
       "      <td>49</td>\n",
       "      <td>1</td>\n",
       "      <td>Female</td>\n",
       "      <td>49</td>\n",
       "    </tr>\n",
       "    <tr>\n",
       "      <td>Male</td>\n",
       "      <td>49</td>\n",
       "      <td>1</td>\n",
       "      <td>Male</td>\n",
       "      <td>49</td>\n",
       "    </tr>\n",
       "  </tbody>\n",
       "</table>\n",
       "</div>"
      ],
      "text/plain": [
       "       count unique     top freq\n",
       "Gender                          \n",
       "Female    49      1  Female   49\n",
       "Male      49      1    Male   49"
      ]
     },
     "execution_count": 340,
     "metadata": {},
     "output_type": "execute_result"
    }
   ],
   "source": [
    "bygender2 = devset.groupby(\"Gender\")\n",
    "bygender2[\"Gender\"].describe()"
   ]
  },
  {
   "cell_type": "code",
   "execution_count": 341,
   "metadata": {},
   "outputs": [
    {
     "data": {
      "text/plain": [
       "(0      154\n",
       " 1      191\n",
       " 2      167\n",
       " 3      171\n",
       " 4      179\n",
       "       ... \n",
       " 387    184\n",
       " 388    150\n",
       " 389    164\n",
       " 390    148\n",
       " 391    191\n",
       " Name: Height, Length: 392, dtype: int64, 0      132\n",
       " 1       62\n",
       " 2      135\n",
       " 3      141\n",
       " 4      103\n",
       "       ... \n",
       " 387    152\n",
       " 388     74\n",
       " 389     71\n",
       " 390     67\n",
       " 391    146\n",
       " Name: Weight, Length: 392, dtype: int64)"
      ]
     },
     "execution_count": 341,
     "metadata": {},
     "output_type": "execute_result"
    }
   ],
   "source": [
    "(trainingset[\"Height\"],trainingset[\"Weight\"])"
   ]
  },
  {
   "cell_type": "code",
   "execution_count": 342,
   "metadata": {},
   "outputs": [
    {
     "data": {
      "text/plain": [
       "(0     198\n",
       " 1     172\n",
       " 2     187\n",
       " 3     169\n",
       " 4     179\n",
       "      ... \n",
       " 93    147\n",
       " 94    157\n",
       " 95    151\n",
       " 96    152\n",
       " 97    164\n",
       " Name: Height, Length: 98, dtype: int64, 0     109\n",
       " 1      90\n",
       " 2     130\n",
       " 3     110\n",
       " 4      56\n",
       "      ... \n",
       " 93    107\n",
       " 94    103\n",
       " 95     55\n",
       " 96     98\n",
       " 97     71\n",
       " Name: Weight, Length: 98, dtype: int64)"
      ]
     },
     "execution_count": 342,
     "metadata": {},
     "output_type": "execute_result"
    }
   ],
   "source": [
    "(devset[\"Height\"],devset[\"Weight\"])"
   ]
  },
  {
   "cell_type": "code",
   "execution_count": 343,
   "metadata": {},
   "outputs": [
    {
     "data": {
      "text/html": [
       "<div>\n",
       "<style scoped>\n",
       "    .dataframe tbody tr th:only-of-type {\n",
       "        vertical-align: middle;\n",
       "    }\n",
       "\n",
       "    .dataframe tbody tr th {\n",
       "        vertical-align: top;\n",
       "    }\n",
       "\n",
       "    .dataframe thead th {\n",
       "        text-align: right;\n",
       "    }\n",
       "</style>\n",
       "<table border=\"1\" class=\"dataframe\">\n",
       "  <thead>\n",
       "    <tr style=\"text-align: right;\">\n",
       "      <th></th>\n",
       "      <th>Height</th>\n",
       "      <th>Weight</th>\n",
       "    </tr>\n",
       "  </thead>\n",
       "  <tbody>\n",
       "    <tr>\n",
       "      <td>count</td>\n",
       "      <td>392.000000</td>\n",
       "      <td>392.000000</td>\n",
       "    </tr>\n",
       "    <tr>\n",
       "      <td>mean</td>\n",
       "      <td>170.293367</td>\n",
       "      <td>105.431122</td>\n",
       "    </tr>\n",
       "    <tr>\n",
       "      <td>std</td>\n",
       "      <td>16.608110</td>\n",
       "      <td>32.295160</td>\n",
       "    </tr>\n",
       "    <tr>\n",
       "      <td>min</td>\n",
       "      <td>140.000000</td>\n",
       "      <td>50.000000</td>\n",
       "    </tr>\n",
       "    <tr>\n",
       "      <td>25%</td>\n",
       "      <td>156.750000</td>\n",
       "      <td>80.000000</td>\n",
       "    </tr>\n",
       "    <tr>\n",
       "      <td>50%</td>\n",
       "      <td>171.000000</td>\n",
       "      <td>104.500000</td>\n",
       "    </tr>\n",
       "    <tr>\n",
       "      <td>75%</td>\n",
       "      <td>185.000000</td>\n",
       "      <td>135.250000</td>\n",
       "    </tr>\n",
       "    <tr>\n",
       "      <td>max</td>\n",
       "      <td>199.000000</td>\n",
       "      <td>160.000000</td>\n",
       "    </tr>\n",
       "  </tbody>\n",
       "</table>\n",
       "</div>"
      ],
      "text/plain": [
       "           Height      Weight\n",
       "count  392.000000  392.000000\n",
       "mean   170.293367  105.431122\n",
       "std     16.608110   32.295160\n",
       "min    140.000000   50.000000\n",
       "25%    156.750000   80.000000\n",
       "50%    171.000000  104.500000\n",
       "75%    185.000000  135.250000\n",
       "max    199.000000  160.000000"
      ]
     },
     "execution_count": 343,
     "metadata": {},
     "output_type": "execute_result"
    }
   ],
   "source": [
    "trainingset.describe()"
   ]
  },
  {
   "cell_type": "code",
   "execution_count": 344,
   "metadata": {},
   "outputs": [
    {
     "data": {
      "text/html": [
       "<div>\n",
       "<style scoped>\n",
       "    .dataframe tbody tr th:only-of-type {\n",
       "        vertical-align: middle;\n",
       "    }\n",
       "\n",
       "    .dataframe tbody tr th {\n",
       "        vertical-align: top;\n",
       "    }\n",
       "\n",
       "    .dataframe thead th {\n",
       "        text-align: right;\n",
       "    }\n",
       "</style>\n",
       "<table border=\"1\" class=\"dataframe\">\n",
       "  <thead>\n",
       "    <tr style=\"text-align: right;\">\n",
       "      <th></th>\n",
       "      <th>Height</th>\n",
       "      <th>Weight</th>\n",
       "    </tr>\n",
       "  </thead>\n",
       "  <tbody>\n",
       "    <tr>\n",
       "      <td>count</td>\n",
       "      <td>98.000000</td>\n",
       "      <td>98.000000</td>\n",
       "    </tr>\n",
       "    <tr>\n",
       "      <td>mean</td>\n",
       "      <td>168.744898</td>\n",
       "      <td>107.938776</td>\n",
       "    </tr>\n",
       "    <tr>\n",
       "      <td>std</td>\n",
       "      <td>15.207372</td>\n",
       "      <td>32.071703</td>\n",
       "    </tr>\n",
       "    <tr>\n",
       "      <td>min</td>\n",
       "      <td>140.000000</td>\n",
       "      <td>50.000000</td>\n",
       "    </tr>\n",
       "    <tr>\n",
       "      <td>25%</td>\n",
       "      <td>154.250000</td>\n",
       "      <td>79.000000</td>\n",
       "    </tr>\n",
       "    <tr>\n",
       "      <td>50%</td>\n",
       "      <td>169.000000</td>\n",
       "      <td>109.500000</td>\n",
       "    </tr>\n",
       "    <tr>\n",
       "      <td>75%</td>\n",
       "      <td>181.000000</td>\n",
       "      <td>136.000000</td>\n",
       "    </tr>\n",
       "    <tr>\n",
       "      <td>max</td>\n",
       "      <td>198.000000</td>\n",
       "      <td>158.000000</td>\n",
       "    </tr>\n",
       "  </tbody>\n",
       "</table>\n",
       "</div>"
      ],
      "text/plain": [
       "           Height      Weight\n",
       "count   98.000000   98.000000\n",
       "mean   168.744898  107.938776\n",
       "std     15.207372   32.071703\n",
       "min    140.000000   50.000000\n",
       "25%    154.250000   79.000000\n",
       "50%    169.000000  109.500000\n",
       "75%    181.000000  136.000000\n",
       "max    198.000000  158.000000"
      ]
     },
     "execution_count": 344,
     "metadata": {},
     "output_type": "execute_result"
    }
   ],
   "source": [
    "devset.describe()"
   ]
  },
  {
   "cell_type": "code",
   "execution_count": 345,
   "metadata": {},
   "outputs": [
    {
     "name": "stdout",
     "output_type": "stream",
     "text": [
      "training shape\n",
      "(2, 392)\n",
      "(1, 392)\n",
      "dev shape\n",
      "(2, 98)\n",
      "(1, 98)\n",
      "X=[[154 191 167 171 179 144 187 142 142 169 151 140 189 147 174 172 190 181\n",
      "  174 170 160 144 177 166 155 178 173 159 182 170 161 152 182 184 153 169\n",
      "  150 154 168 180 164 188 188 157 184 193 191 175 169 172 158 184 155 164\n",
      "  183 140 195 183 160 196 179 169 168 184 182 163 195 168 140 191 179 170\n",
      "  145 167 151 168 192 147 148 175 183 155 177 187 151 148 146 190 151 145\n",
      "  166 171 149 156 187 185 168 156 166 160 190 145 162 168 165 156 161 190\n",
      "  172 194 174 159 141 197 177 178 192 145 187 194 194 165 153 173 166 150\n",
      "  166 142 149 195 171 180 157 144 157 191 195 144 149 154 163 178 140 180\n",
      "  187 170 167 151 141 167 182 188 166 172 155 141 193 176 192 186 175 157\n",
      "  190 185 188 177 187 160 191 168 161 178 161 164 153 154 153 158 157 149\n",
      "  171 174 161 199 180 148 140 157 190 189 168 197 146 186 177 168 162 169\n",
      "  194 159 163 150 159 172 196 176 166 181 142 157 147 165 170 191 156 185\n",
      "  198 192 199 184 154 161 197 179 144 160 172 167 181 172 181 188 197 153\n",
      "  167 181 198 178 151 143 151 164 141 178 177 150 179 182 168 197 164 162\n",
      "  174 185 165 141 162 171 182 185 145 152 141 154 189 182 182 196 159 190\n",
      "  156 147 184 186 176 168 189 153 179 192 196 167 186 150 160 185 158 178\n",
      "  179 152 195 181 174 145 178 171 162 176 183 190 161 181 185 165 165 187\n",
      "  185 153 177 171 193 143 156 193 147 172 188 185 195 140 183 187 171 181\n",
      "  165 186 178 188 184 189 172 187 185 163 176 178 157 196 155 195 163 196\n",
      "  184 150 197 142 186 187 154 142 180 182 197 146 181 162 168 145 187 142\n",
      "  142 146 187 157 163 188 159 150 169 141 183 180 158 159 199 179 179 190\n",
      "  194 192 188 140 188 153 183 185 154 184 150 164 148 191]\n",
      " [132  62 135 141 103  66  94 159 131  97 114 129 104  92  90  75 105  51\n",
      "   65 156 139  80 117 144  71 154  82 104  98 115  72  90 126  83 107 103\n",
      "  119 105  59  73  82 100  57 110  86  65  54 120 145 105  96 132 111  70\n",
      "  138 146  69 105 131 131 110  88  87 160 104  63  98 140  76  62 114  81\n",
      "   79  85 158 148  90  84  60 135  96 144 117 140  82  54 157  50  62  99\n",
      "   61 152 108  89 102  52  90  74  70 124 156 108 159 115 105  52 155 135\n",
      "  109 111 138 109  85 149 117  52 139 130 136 115 108  80 146 139 126  50\n",
      "  107  69  61  65 155  58 110 108  56  68 104 145  66  92 123 140  52  60\n",
      "  122 102  85 154 143 153 143  90 140  62  57  94  61  87 140 137 141  60\n",
      "   83  76  54  61 138  51  79 123 145 117 118  75  78 111 121  95  74 100\n",
      "  147  95  89 156  75 155 143  66 118 132 135  88 110 127 155 160  58 141\n",
      "  106  80 110 144 154 111  50 156 160 105 135  52  67 104  95  96 126 100\n",
      "   50 108  92  57 145 134 125 158  88  83  92 151 106  96  78 123  72  51\n",
      "   58  94 145 160  64  88  67 126  80  83  81  60  83 149 139 119 160  97\n",
      "   90 139 155  86  68 120 151  60  78 103 126 100 124 108  84 116 124  50\n",
      "  106 126  76 143 109  50  87 149 130 101 159 110 148  70 156  94 153 142\n",
      "  152 141  81 141  96 160  85 147  58 122  50  80 103 111 140  68  83  89\n",
      "  110 104  96 131 151 118 137  54  94 139 122 102 147  79 150  92 118 139\n",
      "   57 118 127  81 106 125  67  70 119 159  54 138 153  69  51 126 131 122\n",
      "  153  87 154  86 140  62  54  71 149  84 114 138 111  74 143 117  96  91\n",
      "  137 104 121  56  57 114 120  84  54  80 147 156 149 104  99  67  93  95\n",
      "  136 101  80 152  99  70 153  81  96 152  74  71  67 146]]\n",
      "Y=[[0 1 0 1 0 0 0 0 1 0 1 1 1 1 1 1 0 1 0 0 1 1 1 0 0 0 0 1 1 1 1 0 0 1 0 0\n",
      "  0 1 0 1 0 1 1 1 0 1 0 0 0 1 1 0 0 0 1 0 1 1 0 0 1 0 0 0 1 0 1 0 0 1 0 1\n",
      "  0 0 0 1 0 1 1 1 0 0 0 1 1 0 0 1 1 1 1 0 0 0 0 0 0 1 1 0 0 1 0 0 1 0 1 1\n",
      "  0 0 1 1 1 1 1 1 0 1 1 1 1 1 0 1 0 0 1 1 1 0 0 0 0 1 1 0 0 1 1 0 1 1 1 0\n",
      "  1 0 0 1 0 0 0 0 0 0 1 1 0 1 0 0 0 0 1 1 1 1 1 0 1 1 0 1 1 1 0 1 1 1 1 1\n",
      "  1 1 1 1 1 1 1 0 0 0 0 1 0 0 0 1 1 1 1 0 1 0 1 0 0 0 1 1 1 0 0 1 1 1 0 0\n",
      "  1 0 0 1 1 0 1 0 1 0 1 1 0 0 1 1 0 0 0 0 0 1 0 1 0 0 1 1 0 0 1 0 0 1 0 1\n",
      "  1 1 1 1 0 0 1 1 1 1 0 1 0 1 0 1 1 0 0 0 0 0 1 1 1 0 1 0 0 0 0 0 1 0 0 1\n",
      "  1 1 1 1 1 1 1 1 0 0 0 1 1 1 0 1 0 0 0 1 0 0 1 0 1 1 0 1 0 0 0 1 0 0 0 1\n",
      "  0 1 1 1 0 0 0 0 0 0 0 1 0 1 1 1 1 0 1 0 0 0 0 1 1 1 1 0 0 1 0 0 0 1 1 1\n",
      "  0 0 0 0 0 1 1 0 0 1 1 0 0 0 1 0 1 1 0 1 0 1 1 1 1 0 0 0 1 0 0 1]]\n"
     ]
    }
   ],
   "source": [
    "# CHANGE tag Male and Female to 1 & 0 \n",
    "trainingset['Gender'].replace('Male',1, inplace=True)\n",
    "trainingset['Gender'].replace('Female',0, inplace=True)\n",
    "devset['Gender'].replace('Male',1, inplace=True)\n",
    "devset['Gender'].replace('Female',0, inplace=True)\n",
    "\n",
    "X = np.array([trainingset[\"Height\"],trainingset[\"Weight\"]])\n",
    "X_test=np.array([devset[\"Height\"],devset[\"Weight\"]])\n",
    "Y = np.array([trainingset[\"Gender\"]])\n",
    "Y_test = np.array([devset[\"Gender\"]])\n",
    "print(\"training shape\")\n",
    "print(X.shape)\n",
    "print(Y.shape)\n",
    "print(\"dev shape\")\n",
    "print(X_test.shape)\n",
    "print(Y_test.shape)\n",
    "print(\"X=\" + str(X))\n",
    "print(\"Y=\" + str(Y))\n",
    "# X=np.array([[1,2],[3,4]]).T\n",
    "# Y=np.array([[1],[0]]).T"
   ]
  },
  {
   "cell_type": "code",
   "execution_count": 346,
   "metadata": {},
   "outputs": [
    {
     "data": {
      "text/html": [
       "<div>\n",
       "<style scoped>\n",
       "    .dataframe tbody tr th:only-of-type {\n",
       "        vertical-align: middle;\n",
       "    }\n",
       "\n",
       "    .dataframe tbody tr th {\n",
       "        vertical-align: top;\n",
       "    }\n",
       "\n",
       "    .dataframe thead th {\n",
       "        text-align: right;\n",
       "    }\n",
       "</style>\n",
       "<table border=\"1\" class=\"dataframe\">\n",
       "  <thead>\n",
       "    <tr style=\"text-align: right;\">\n",
       "      <th></th>\n",
       "      <th>Gender</th>\n",
       "      <th>Height</th>\n",
       "      <th>Weight</th>\n",
       "    </tr>\n",
       "  </thead>\n",
       "  <tbody>\n",
       "    <tr>\n",
       "      <td>0</td>\n",
       "      <td>0</td>\n",
       "      <td>154</td>\n",
       "      <td>132</td>\n",
       "    </tr>\n",
       "    <tr>\n",
       "      <td>1</td>\n",
       "      <td>1</td>\n",
       "      <td>191</td>\n",
       "      <td>62</td>\n",
       "    </tr>\n",
       "    <tr>\n",
       "      <td>2</td>\n",
       "      <td>0</td>\n",
       "      <td>167</td>\n",
       "      <td>135</td>\n",
       "    </tr>\n",
       "    <tr>\n",
       "      <td>3</td>\n",
       "      <td>1</td>\n",
       "      <td>171</td>\n",
       "      <td>141</td>\n",
       "    </tr>\n",
       "    <tr>\n",
       "      <td>4</td>\n",
       "      <td>0</td>\n",
       "      <td>179</td>\n",
       "      <td>103</td>\n",
       "    </tr>\n",
       "  </tbody>\n",
       "</table>\n",
       "</div>"
      ],
      "text/plain": [
       "   Gender  Height  Weight\n",
       "0       0     154     132\n",
       "1       1     191      62\n",
       "2       0     167     135\n",
       "3       1     171     141\n",
       "4       0     179     103"
      ]
     },
     "execution_count": 346,
     "metadata": {},
     "output_type": "execute_result"
    }
   ],
   "source": [
    "trainingset.head()"
   ]
  },
  {
   "cell_type": "code",
   "execution_count": 347,
   "metadata": {},
   "outputs": [
    {
     "data": {
      "text/html": [
       "<div>\n",
       "<style scoped>\n",
       "    .dataframe tbody tr th:only-of-type {\n",
       "        vertical-align: middle;\n",
       "    }\n",
       "\n",
       "    .dataframe tbody tr th {\n",
       "        vertical-align: top;\n",
       "    }\n",
       "\n",
       "    .dataframe thead th {\n",
       "        text-align: right;\n",
       "    }\n",
       "</style>\n",
       "<table border=\"1\" class=\"dataframe\">\n",
       "  <thead>\n",
       "    <tr style=\"text-align: right;\">\n",
       "      <th></th>\n",
       "      <th>Gender</th>\n",
       "      <th>Height</th>\n",
       "      <th>Weight</th>\n",
       "    </tr>\n",
       "  </thead>\n",
       "  <tbody>\n",
       "    <tr>\n",
       "      <td>0</td>\n",
       "      <td>1</td>\n",
       "      <td>198</td>\n",
       "      <td>109</td>\n",
       "    </tr>\n",
       "    <tr>\n",
       "      <td>1</td>\n",
       "      <td>0</td>\n",
       "      <td>172</td>\n",
       "      <td>90</td>\n",
       "    </tr>\n",
       "    <tr>\n",
       "      <td>2</td>\n",
       "      <td>0</td>\n",
       "      <td>187</td>\n",
       "      <td>130</td>\n",
       "    </tr>\n",
       "    <tr>\n",
       "      <td>3</td>\n",
       "      <td>1</td>\n",
       "      <td>169</td>\n",
       "      <td>110</td>\n",
       "    </tr>\n",
       "    <tr>\n",
       "      <td>4</td>\n",
       "      <td>1</td>\n",
       "      <td>179</td>\n",
       "      <td>56</td>\n",
       "    </tr>\n",
       "  </tbody>\n",
       "</table>\n",
       "</div>"
      ],
      "text/plain": [
       "   Gender  Height  Weight\n",
       "0       1     198     109\n",
       "1       0     172      90\n",
       "2       0     187     130\n",
       "3       1     169     110\n",
       "4       1     179      56"
      ]
     },
     "execution_count": 347,
     "metadata": {},
     "output_type": "execute_result"
    }
   ],
   "source": [
    "devset.head()"
   ]
  },
  {
   "cell_type": "markdown",
   "metadata": {},
   "source": [
    "# Normalization"
   ]
  },
  {
   "cell_type": "code",
   "execution_count": 348,
   "metadata": {},
   "outputs": [],
   "source": [
    "# m = X.shape[0]\n",
    "# mu = np.sum((X))/m\n",
    "# sigma = np.sum((X)**2)/m\n",
    "# X = (X-mu)/sigma\n",
    "# X"
   ]
  },
  {
   "cell_type": "markdown",
   "metadata": {},
   "source": [
    "# Train neural network"
   ]
  },
  {
   "cell_type": "code",
   "execution_count": 349,
   "metadata": {
    "scrolled": true
   },
   "outputs": [
    {
     "name": "stdout",
     "output_type": "stream",
     "text": [
      "Cost after iteration 0: 0.822526\n",
      "Cost after iteration 10: 0.693147\n",
      "Cost after iteration 20: 0.693147\n",
      "Cost after iteration 30: 0.693147\n",
      "Cost after iteration 40: 0.693147\n",
      "Cost after iteration 50: 0.693147\n",
      "Cost after iteration 60: 0.693147\n",
      "Cost after iteration 70: 0.693147\n",
      "Cost after iteration 80: 0.693147\n",
      "Cost after iteration 90: 0.693147\n",
      "Cost after iteration 100: 0.693147\n",
      "Cost after iteration 110: 0.693147\n",
      "Cost after iteration 120: 0.693147\n",
      "Cost after iteration 130: 0.693147\n",
      "Cost after iteration 140: 0.693147\n"
     ]
    }
   ],
   "source": [
    "n_h=3\n",
    "parameters,epoch,cost_acom= model(X, Y, n_h, num_iterations = 150, print_cost=True,learning_rate=0.5,lambd=0.1)"
   ]
  },
  {
   "cell_type": "code",
   "execution_count": 350,
   "metadata": {},
   "outputs": [
    {
     "data": {
      "text/plain": [
       "{'W1': array([[-0.2946923 , -0.03978666],\n",
       "        [-1.51051875,  1.15984661],\n",
       "        [-1.26815046, -0.59520527]]), 'b1': array([[0.],\n",
       "        [0.],\n",
       "        [0.]]), 'W2': array([[ 0.55019814, -0.45910799, -0.35094958]]), 'b2': array([[-0.25985942]])}"
      ]
     },
     "execution_count": 350,
     "metadata": {},
     "output_type": "execute_result"
    }
   ],
   "source": [
    "parameters"
   ]
  },
  {
   "cell_type": "markdown",
   "metadata": {},
   "source": [
    "# Prediction"
   ]
  },
  {
   "cell_type": "code",
   "execution_count": 351,
   "metadata": {},
   "outputs": [],
   "source": [
    "def predict(parameters, X):\n",
    "    \"\"\"\n",
    "    Using the learned parameters, predicts a class for each example in X\n",
    "    \n",
    "    Arguments:\n",
    "    parameters -- python dictionary containing your parameters \n",
    "    X -- input data of size (n_x, m)\n",
    "    \n",
    "    Returns\n",
    "    predictions -- vector of predictions of our model (red: 0 / blue: 1)\n",
    "    \"\"\"\n",
    "    \n",
    "    # Computes probabilities using forward propagation, and classifies to 0/1 using 0.5 as the threshold.\n",
    "    ### START CODE HERE ### (≈ 2 lines of code)\n",
    "    A2, cache = forward_propagation(X, parameters)\n",
    "    predictions = cache[\"A2\"]\n",
    "    ### END CODE HERE ###\n",
    "    \n",
    "    return predictions"
   ]
  },
  {
   "cell_type": "code",
   "execution_count": 352,
   "metadata": {},
   "outputs": [
    {
     "name": "stdout",
     "output_type": "stream",
     "text": [
      "predictions mean = 0.5\n"
     ]
    }
   ],
   "source": [
    "predictionstraining = predict(parameters, X)\n",
    "print(\"predictions mean = \" + str(np.mean(predictionstraining)))"
   ]
  },
  {
   "cell_type": "code",
   "execution_count": 353,
   "metadata": {},
   "outputs": [
    {
     "name": "stdout",
     "output_type": "stream",
     "text": [
      "predictions mean = 0.5\n"
     ]
    }
   ],
   "source": [
    "predictions = predict(parameters, X_test)\n",
    "print(\"predictions mean = \" + str(np.mean(predictions)))"
   ]
  },
  {
   "cell_type": "code",
   "execution_count": 354,
   "metadata": {},
   "outputs": [
    {
     "data": {
      "text/plain": [
       "array([0.82252607, 0.69314734, 0.69314718, 0.69314718, 0.69314718,\n",
       "       0.69314718, 0.69314718, 0.69314718, 0.69314718, 0.69314718,\n",
       "       0.69314718, 0.69314718, 0.69314718, 0.69314718, 0.69314718])"
      ]
     },
     "execution_count": 354,
     "metadata": {},
     "output_type": "execute_result"
    }
   ],
   "source": [
    "cost_acom"
   ]
  },
  {
   "cell_type": "markdown",
   "metadata": {},
   "source": [
    "# Model evaluation"
   ]
  },
  {
   "cell_type": "code",
   "execution_count": 355,
   "metadata": {},
   "outputs": [
    {
     "data": {
      "image/png": "[encoded data removed]",
      "text/plain": [
       "<Figure size 432x288 with 1 Axes>"
      ]
     },
     "metadata": {
      "needs_background": "light"
     },
     "output_type": "display_data"
    }
   ],
   "source": [
    "plt.plot(epoch,cost_acom)\n",
    "plt.ylabel('Cost')\n",
    "plt.show()"
   ]
  },
  {
   "cell_type": "code",
   "execution_count": 356,
   "metadata": {},
   "outputs": [
    {
     "data": {
      "text/plain": [
       "array([[0.5, 0.5, 0.5, 0.5, 0.5, 0.5, 0.5, 0.5, 0.5, 0.5, 0.5, 0.5, 0.5,\n",
       "        0.5, 0.5, 0.5, 0.5, 0.5, 0.5, 0.5, 0.5, 0.5, 0.5, 0.5, 0.5, 0.5,\n",
       "        0.5, 0.5, 0.5, 0.5, 0.5, 0.5, 0.5, 0.5, 0.5, 0.5, 0.5, 0.5, 0.5,\n",
       "        0.5, 0.5, 0.5, 0.5, 0.5, 0.5, 0.5, 0.5, 0.5, 0.5, 0.5, 0.5, 0.5,\n",
       "        0.5, 0.5, 0.5, 0.5, 0.5, 0.5, 0.5, 0.5, 0.5, 0.5, 0.5, 0.5, 0.5,\n",
       "        0.5, 0.5, 0.5, 0.5, 0.5, 0.5, 0.5, 0.5, 0.5, 0.5, 0.5, 0.5, 0.5,\n",
       "        0.5, 0.5, 0.5, 0.5, 0.5, 0.5, 0.5, 0.5, 0.5, 0.5, 0.5, 0.5, 0.5,\n",
       "        0.5, 0.5, 0.5, 0.5, 0.5, 0.5, 0.5]])"
      ]
     },
     "execution_count": 356,
     "metadata": {},
     "output_type": "execute_result"
    }
   ],
   "source": [
    "predictions"
   ]
  },
  {
   "cell_type": "code",
   "execution_count": 357,
   "metadata": {
    "scrolled": true
   },
   "outputs": [
    {
     "data": {
      "text/plain": [
       "0.6931471805599453"
      ]
     },
     "execution_count": 357,
     "metadata": {},
     "output_type": "execute_result"
    }
   ],
   "source": [
    "cost_function(predictions,Y_test,0.1,parameters)"
   ]
  },
  {
   "cell_type": "code",
   "execution_count": 358,
   "metadata": {},
   "outputs": [
    {
     "data": {
      "text/plain": [
       "array([1, 1, 1, 1, 1, 1, 1, 1, 1, 1, 1, 1, 1, 1, 1, 1, 1, 1, 1, 1, 1, 1,\n",
       "       1, 1, 1, 1, 1, 1, 1, 1, 1, 1, 1, 1, 1, 1, 1, 1, 1, 1, 1, 1, 1, 1,\n",
       "       1, 1, 1, 1, 1, 1, 1, 1, 1, 1, 1, 1, 1, 1, 1, 1, 1, 1, 1, 1, 1, 1,\n",
       "       1, 1, 1, 1, 1, 1, 1, 1, 1, 1, 1, 1, 1, 1, 1, 1, 1, 1, 1, 1, 1, 1,\n",
       "       1, 1, 1, 1, 1, 1, 1, 1, 1, 1], dtype=uint8)"
      ]
     },
     "execution_count": 358,
     "metadata": {},
     "output_type": "execute_result"
    }
   ],
   "source": [
    "(predictions[0]>=0.5).astype('uint8')"
   ]
  },
  {
   "cell_type": "code",
   "execution_count": 359,
   "metadata": {},
   "outputs": [
    {
     "data": {
      "text/plain": [
       "array([1, 0, 0, 1, 1, 1, 1, 0, 0, 0, 0, 0, 0, 0, 0, 0, 1, 0, 0, 0, 0, 1,\n",
       "       1, 0, 1, 0, 1, 0, 1, 1, 0, 1, 0, 0, 0, 0, 1, 1, 1, 1, 1, 1, 0, 0,\n",
       "       1, 0, 1, 1, 1, 1, 0, 0, 1, 0, 1, 1, 1, 1, 1, 0, 1, 1, 1, 0, 1, 0,\n",
       "       0, 1, 0, 0, 1, 0, 0, 0, 1, 0, 1, 0, 0, 1, 0, 1, 0, 1, 1, 1, 0, 1,\n",
       "       1, 1, 0, 1, 1, 0, 0, 0, 1, 0], dtype=uint8)"
      ]
     },
     "execution_count": 359,
     "metadata": {},
     "output_type": "execute_result"
    }
   ],
   "source": [
    "(Y_test[0]==1).astype('uint8')"
   ]
  },
  {
   "cell_type": "code",
   "execution_count": 360,
   "metadata": {},
   "outputs": [
    {
     "name": "stdout",
     "output_type": "stream",
     "text": [
      "Training_Error = 25.0 %\n"
     ]
    }
   ],
   "source": [
    "from sklearn.metrics import mean_squared_error\n",
    "print(\"Training_Error = \" + str(mean_squared_error(Y[0],predictionstraining[0])*100) + \" %\")"
   ]
  },
  {
   "cell_type": "code",
   "execution_count": 361,
   "metadata": {},
   "outputs": [
    {
     "name": "stdout",
     "output_type": "stream",
     "text": [
      "Test_Error = 25.0 %\n"
     ]
    }
   ],
   "source": [
    "from sklearn.metrics import mean_squared_error\n",
    "print(\"Test_Error = \" + str(mean_squared_error(Y_test[0],predictions[0])*100) + \" %\")"
   ]
  },
  {
   "cell_type": "code",
   "execution_count": 362,
   "metadata": {},
   "outputs": [
    {
     "data": {
      "text/plain": [
       "0.5"
      ]
     },
     "execution_count": 362,
     "metadata": {},
     "output_type": "execute_result"
    }
   ],
   "source": [
    "from sklearn.metrics import accuracy_score\n",
    "accuracy_score((Y_test[0] == 1).astype('uint8'), (predictions[0]>=0.5).astype('uint8'))"
   ]
  },
  {
   "cell_type": "code",
   "execution_count": 363,
   "metadata": {},
   "outputs": [
    {
     "data": {
      "text/plain": [
       "(0, 49, 0, 49)"
      ]
     },
     "execution_count": 363,
     "metadata": {},
     "output_type": "execute_result"
    }
   ],
   "source": [
    "from sklearn.metrics import confusion_matrix\n",
    "tn, fp, fn, tp = confusion_matrix((Y_test[0] == 1).astype('uint8'), (predictions[0]>=0.5).astype('uint8')).ravel()\n",
    "(tn, fp, fn, tp)"
   ]
  },
  {
   "cell_type": "code",
   "execution_count": 364,
   "metadata": {},
   "outputs": [
    {
     "name": "stderr",
     "output_type": "stream",
     "text": [
      "C:\\Users\\cristian\\Anaconda3\\lib\\site-packages\\sklearn\\metrics\\classification.py:1437: UndefinedMetricWarning: Precision and F-score are ill-defined and being set to 0.0 in labels with no predicted samples.\n",
      "  'precision', 'predicted', average, warn_for)\n"
     ]
    },
    {
     "data": {
      "text/plain": [
       "'              precision    recall  f1-score   support\\n\\n           0       0.00      0.00      0.00        49\\n           1       0.50      1.00      0.67        49\\n\\n    accuracy                           0.50        98\\n   macro avg       0.25      0.50      0.33        98\\nweighted avg       0.25      0.50      0.33        98\\n'"
      ]
     },
     "execution_count": 364,
     "metadata": {},
     "output_type": "execute_result"
    }
   ],
   "source": [
    "from sklearn.metrics import classification_report\n",
    "classification_report((Y_test[0] == 1).astype('uint8'), (predictions[0]>=0.5).astype('uint8'))"
   ]
  },
  {
   "cell_type": "code",
   "execution_count": 365,
   "metadata": {},
   "outputs": [
    {
     "data": {
      "text/plain": [
       "<matplotlib.legend.Legend at 0x1a5a4259688>"
      ]
     },
     "execution_count": 365,
     "metadata": {},
     "output_type": "execute_result"
    },
    {
     "data": {
      "image/png": "[encoded data removed]",
      "text/plain": [
       "<Figure size 432x288 with 1 Axes>"
      ]
     },
     "metadata": {
      "needs_background": "light"
     },
     "output_type": "display_data"
    }
   ],
   "source": [
    "import matplotlib.pyplot as plt\n",
    "data = pd.DataFrame({\"X Value\": trainingset[\"Height\"], \"Y Value\": trainingset[\"Weight\"], \"Category\": trainingset[\"Gender\"]})\n",
    "groups = data.groupby(\"Category\")\n",
    "\n",
    "for name, group in groups:\n",
    "    plt.plot(group[\"X Value\"], group[\"Y Value\"], marker=\"o\", linestyle=\"\", label=name)\n",
    "plt.legend()"
   ]
  },
  {
   "cell_type": "code",
   "execution_count": 366,
   "metadata": {},
   "outputs": [
    {
     "data": {
      "text/plain": [
       "<matplotlib.legend.Legend at 0x1a5a43a1dc8>"
      ]
     },
     "execution_count": 366,
     "metadata": {},
     "output_type": "execute_result"
    },
    {
     "data": {
      "image/png": "[encoded data removed]",
      "text/plain": [
       "<Figure size 432x288 with 1 Axes>"
      ]
     },
     "metadata": {
      "needs_background": "light"
     },
     "output_type": "display_data"
    }
   ],
   "source": [
    "data = pd.DataFrame({\"X Value\": devset[\"Height\"], \"Y Value\": devset[\"Weight\"], \"Category\": devset[\"Gender\"]})\n",
    "groups = data.groupby(\"Category\")\n",
    "\n",
    "for name, group in groups:\n",
    "    plt.plot(group[\"X Value\"], group[\"Y Value\"], marker=\"o\", linestyle=\"\", label=name)\n",
    "plt.legend()"
   ]
  },
  {
   "cell_type": "markdown",
   "metadata": {},
   "source": [
    "# Conclusion\n",
    "Result is 50% accuracy, this make sense because data is similar as men as women."
   ]
  }
 ],
 "metadata": {
  "kernelspec": {
   "display_name": "Python 3",
   "language": "python",
   "name": "python3"
  },
  "language_info": {
   "codemirror_mode": {
    "name": "ipython",
    "version": 3
   },
   "file_extension": ".py",
   "mimetype": "text/x-python",
   "name": "python",
   "nbconvert_exporter": "python",
   "pygments_lexer": "ipython3",
   "version": "3.7.4"
  }
 },
 "nbformat": 4,
 "nbformat_minor": 2
}
